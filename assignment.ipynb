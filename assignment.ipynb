{
 "cells": [
  {
   "cell_type": "code",
   "execution_count": 3,
   "metadata": {},
   "outputs": [
    {
     "name": "stdout",
     "output_type": "stream",
     "text": [
      "Twinke, twinkle, little,  star,\n",
      "    how I wonder what you are!\n",
      "          up above the world so high\n",
      "          like a diamond in the sky \n",
      "Twinkle twinkle little star,\n",
      "    how I wonder what you are!\n"
     ]
    }
   ],
   "source": [
    "print (\"Twinke, twinkle, little,  star,\")\n",
    "print (\"    how I wonder what you are!\")\n",
    "print (\"          up above the world so high\")\n",
    "print (\"          like a diamond in the sky \")\n",
    "print (\"Twinkle twinkle little star,\")\n",
    "print (\"    how I wonder what you are!\")"
   ]
  },
  {
   "cell_type": "code",
   "execution_count": null,
   "metadata": {},
   "outputs": [],
   "source": []
  }
 ],
 "metadata": {
  "kernelspec": {
   "display_name": "Python 3",
   "language": "python",
   "name": "python3"
  },
  "language_info": {
   "codemirror_mode": {
    "name": "ipython",
    "version": 3
   },
   "file_extension": ".py",
   "mimetype": "text/x-python",
   "name": "python",
   "nbconvert_exporter": "python",
   "pygments_lexer": "ipython3",
   "version": "3.7.4"
  }
 },
 "nbformat": 4,
 "nbformat_minor": 2
}
