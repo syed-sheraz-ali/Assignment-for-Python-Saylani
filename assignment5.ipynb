{
 "cells": [
  {
   "cell_type": "code",
   "execution_count": 2,
   "metadata": {},
   "outputs": [
    {
     "name": "stdout",
     "output_type": "stream",
     "text": [
      "0.045454545454545456\n"
     ]
    }
   ],
   "source": [
    "def factorial(a,b):\n",
    "    c =float(a/b)\n",
    "    return c\n",
    "\n",
    "print(factorial(1, 22))\n",
    "    "
   ]
  },
  {
   "cell_type": "code",
   "execution_count": 33,
   "metadata": {},
   "outputs": [
    {
     "name": "stdout",
     "output_type": "stream",
     "text": [
      "original string = KArachi Is the BiGGest City 0f PAKIstan\n",
      "Number of upper case in string =  11\n",
      "Number of lower case in string =  21\n"
     ]
    }
   ],
   "source": [
    "def string(x):\n",
    "    d={\"UPPER-CASE\":0 , \"lower-case\":0} \n",
    "    for N in x :\n",
    "        if N.isupper():\n",
    "            d[\"UPPER-CASE\"]+=1\n",
    "        elif N.islower():\n",
    "                d[\"lower-case\"]+=1\n",
    "        else:\n",
    "                    pass \n",
    "    print (\"original string =\", x)\n",
    "    print(\"Number of upper case in string = \" , d[\"UPPER-CASE\"])\n",
    "    print(\"Number of lower case in string = \", d[\"lower-case\"])\n",
    "       \n",
    "string('KArachi Is the BiGGest City 0f PAKIstan')    "
   ]
  },
  {
   "cell_type": "code",
   "execution_count": 1,
   "metadata": {},
   "outputs": [
    {
     "name": "stdout",
     "output_type": "stream",
     "text": [
      "please enter a number 44\n",
      "This is an even number.\n"
     ]
    }
   ],
   "source": [
    "   def checker(x):\n",
    "    \n",
    "    num = x\n",
    "    mod = int(num) % 2\n",
    "    if mod > 0:\n",
    "        print(\"This is an odd number.\")\n",
    "    else:\n",
    "        print(\"This is an even number.\")\n",
    "    \n",
    "\n",
    "checker(input(\"please enter a number \"))"
   ]
  },
  {
   "cell_type": "code",
   "execution_count": 8,
   "metadata": {},
   "outputs": [
    {
     "name": "stdout",
     "output_type": "stream",
     "text": [
      "Enter your string nabban\n",
      "the string is palindrome.\n"
     ]
    }
   ],
   "source": [
    "def palindrome_check(x):\n",
    "    A = str(x)\n",
    "    A = A.casefold()\n",
    "    R = reversed(A)\n",
    "    if list(A) == list(R):\n",
    "        print(\"the string is palindrome.\")\n",
    "    else:\n",
    "        print(\"the string is not a palindrome.\")\n",
    "        \n",
    "palindrome_check(input(\"Enter your string \"))        \n",
    "    "
   ]
  },
  {
   "cell_type": "code",
   "execution_count": 1,
   "metadata": {},
   "outputs": [
    {
     "name": "stdout",
     "output_type": "stream",
     "text": [
      "please enter your value4\n",
      "4 is not a prime number\n",
      "2 times 2 is 4\n"
     ]
    }
   ],
   "source": [
    "\n",
    "def num (num):  \n",
    "  \n",
    "    if num > 1:  \n",
    "        for i in range(2,num):  #(2 is starting range of i , num is a input which we given)\n",
    "            if (num % i) == 0:  \n",
    "                print(num,\"is not a prime number\")  \n",
    "                print(i,\"times\",num//i,\"is\",num) #this is telling why the given number is not prime \n",
    "                break  \n",
    "            else:  \n",
    "                print(num,\"is a prime number\")  \n",
    "         \n",
    "    else:  \n",
    "        print(num,\"is not a prime number\")  \n",
    "\n",
    "a = int(input(\"please enter your value\"))\n",
    "     \n",
    "num(a)"
   ]
  },
  {
   "cell_type": "code",
   "execution_count": null,
   "metadata": {},
   "outputs": [
    {
     "name": "stdout",
     "output_type": "stream",
     "text": [
      "--------------------\n",
      "   wellcome  \n",
      "-----------------------\n",
      "\n",
      "press 1 for add \n",
      "press 2 for quit \n"
     ]
    }
   ],
   "source": [
    "def market(*a):\n",
    "    n = []\n",
    "    b = a\n",
    "    for i in b :\n",
    "        print(\" --------------------- \\n  your order list  \\n-------------------\\n \")\n",
    "        j = n.append(i)\n",
    "        print (\"your purchase {}. \" .format(i) )\n",
    "        \n",
    "while (True) :\n",
    "    \n",
    "    print (\"--------------------\\n   wellcome  \\n-----------------------\\n\")\n",
    "    print (\"press 1 for add \")\n",
    "    print (\"press 2 for quit \")\n",
    " \n",
    "    h = input(\"please enter your desire : \")\n",
    "    if h == \"1\" :\n",
    "       d = input(\" please add your product \")\n",
    "       market(d)\n",
    "   \n",
    "    else:\n",
    "        print(\"thanks for purschase\")\n",
    "        break"
   ]
  },
  {
   "cell_type": "code",
   "execution_count": null,
   "metadata": {},
   "outputs": [],
   "source": []
  }
 ],
 "metadata": {
  "kernelspec": {
   "display_name": "Python 3",
   "language": "python",
   "name": "python3"
  },
  "language_info": {
   "codemirror_mode": {
    "name": "ipython",
    "version": 3
   },
   "file_extension": ".py",
   "mimetype": "text/x-python",
   "name": "python",
   "nbconvert_exporter": "python",
   "pygments_lexer": "ipython3",
   "version": "3.7.4"
  }
 },
 "nbformat": 4,
 "nbformat_minor": 2
}
