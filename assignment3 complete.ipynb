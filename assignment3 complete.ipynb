{
 "cells": [
  {
   "cell_type": "code",
   "execution_count": 1,
   "metadata": {},
   "outputs": [
    {
     "name": "stdout",
     "output_type": "stream",
     "text": [
      "Enter first value5\n",
      "Enter OPerator**\n",
      "Enter first value5\n",
      "3125 answer\n"
     ]
    }
   ],
   "source": [
    "#1\n",
    "# calculator using python\n",
    "\n",
    "val1 = input(\"Enter first value\")\n",
    "operator = input(\"Enter OPerator\")\n",
    "val2 = input(\"Enter first value\")\n",
    "\n",
    "val1= int(val1)\n",
    "val2= int(val2)\n",
    "\n",
    "\n",
    "\n",
    "if operator == \"+\":\n",
    "   val = val1 + val2\n",
    "   print(val, 'answer')  \n",
    "elif operator == \"-\":\n",
    "   val = val1 - val2\n",
    "   print(val, 'answer')\n",
    "elif operator == '*':\n",
    "   val = val1 * val2\n",
    "   print(val, 'answer')\n",
    "elif operator == '/':\n",
    "   val = val1 / val2\n",
    "   print(val, 'answer')\n",
    "    \n",
    "elif operator == '**':\n",
    "   val = val1 ** val2\n",
    "   print(val, 'answer')\n",
    "else:\n",
    "     print('Enter correct Operator')"
   ]
  },
  {
   "cell_type": "code",
   "execution_count": 6,
   "metadata": {},
   "outputs": [
    {
     "name": "stdout",
     "output_type": "stream",
     "text": [
      "Element Exists\n"
     ]
    }
   ],
   "source": [
    "#2\n",
    "#python program to check numeric value\n",
    "\n",
    "test_list = [ 1, 6, 3, 5, 3, 4 ] \n",
    "  \n",
    "\n",
    "for i in test_list: \n",
    "    if(i == 4) : \n",
    "        print (\"Element Exists\") "
   ]
  },
  {
   "cell_type": "code",
   "execution_count": 7,
   "metadata": {},
   "outputs": [
    {
     "name": "stdout",
     "output_type": "stream",
     "text": [
      "{'First name': 'Syed Sheraz ', 'Last Name ': 'Ali'}\n",
      "{'First name': 'Syed Sheraz ', 'Last Name ': 'Ali', 'Email': 'syedsherazali14@gmail.com'}\n"
     ]
    }
   ],
   "source": [
    "#3\n",
    "# python program to add key in dictonary \n",
    "\n",
    "dictionary = {\"First name\": \"Syed Sheraz \",\n",
    "             \"Last Name \" : \"Ali\"}\n",
    "print(dictionary)\n",
    "dictionary.update({\"Email\":\"syedsherazali14@gmail.com\"})\n",
    "print(dictionary)"
   ]
  },
  {
   "cell_type": "code",
   "execution_count": 8,
   "metadata": {},
   "outputs": [
    {
     "name": "stdout",
     "output_type": "stream",
     "text": [
      "848\n"
     ]
    }
   ],
   "source": [
    "#4\n",
    "#Python program to sum all the numbers in dictionary\n",
    "\n",
    "\n",
    "add = {'val1':100,'val2':-54,'val3':247, 'val4':555 }\n",
    "print(sum(add.values()))"
   ]
  },
  {
   "cell_type": "code",
   "execution_count": 4,
   "metadata": {},
   "outputs": [
    {
     "name": "stdout",
     "output_type": "stream",
     "text": [
      "[1, 2, 3, 4, 5, 9, 56, 78, 12, 23, 79]\n"
     ]
    }
   ],
   "source": [
    "#5\n",
    "# python program to identify or ignore dublicate item in list \n",
    "values = [1,2,1,3,1,4,1,4,2,5,9,56,78,56,12,23,79]\n",
    "unique = []\n",
    "for new in values:\n",
    "    if new not in unique:\n",
    "        unique.append(new)\n",
    "print (unique)"
   ]
  },
  {
   "cell_type": "code",
   "execution_count": 5,
   "metadata": {},
   "outputs": [
    {
     "name": "stdout",
     "output_type": "stream",
     "text": [
      "Key is present in the dictionary\n",
      "Key is not present in the dictionary\n"
     ]
    }
   ],
   "source": [
    "#6\n",
    "#python script to check key is already present \n",
    "V = {1: 10, 2: 20, 3: 30, 4: 40, 5: 50, 6: 60}\n",
    "def is_key_present(x):\n",
    "    if x in V:\n",
    "        print('Key is present in the dictionary')\n",
    "    else:\n",
    "        print('Key is not present in the dictionary')\n",
    "is_key_present(4)\n",
    "is_key_present(9)"
   ]
  },
  {
   "cell_type": "code",
   "execution_count": null,
   "metadata": {},
   "outputs": [],
   "source": []
  }
 ],
 "metadata": {
  "kernelspec": {
   "display_name": "Python 3",
   "language": "python",
   "name": "python3"
  },
  "language_info": {
   "codemirror_mode": {
    "name": "ipython",
    "version": 3
   },
   "file_extension": ".py",
   "mimetype": "text/x-python",
   "name": "python",
   "nbconvert_exporter": "python",
   "pygments_lexer": "ipython3",
   "version": "3.7.4"
  }
 },
 "nbformat": 4,
 "nbformat_minor": 2
}
