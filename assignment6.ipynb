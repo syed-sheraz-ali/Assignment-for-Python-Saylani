{
 "cells": [
  {
   "cell_type": "code",
   "execution_count": 52,
   "metadata": {},
   "outputs": [
    {
     "name": "stdout",
     "output_type": "stream",
     "text": [
      "Question 1: Define Object Oriented Programming Language?\n",
      "Object-oriented programming (OOP) refers to a type of computer programming (software design) \n",
      "in which  programmers define not only the data type of a data structure, but also the types of operations (functions) \n",
      "that can be applied to the data structure.\n"
     ]
    }
   ],
   "source": [
    "answer = (\"Object-oriented programming (OOP) refers to a type of computer programming (software design) \\nin which  programmers define not only the data type of a data structure, but also the types of operations (functions) \\nthat can be applied to the data structure.\")\n",
    "def question1():\n",
    "    print(\"Question 1: Define Object Oriented Programming Language?\")\n",
    "    print(answer)\n",
    "    \n",
    "    \n",
    "question1();\n"
   ]
  },
  {
   "cell_type": "code",
   "execution_count": 54,
   "metadata": {},
   "outputs": [
    {
     "name": "stdout",
     "output_type": "stream",
     "text": [
      "Question 2: List down the Benefits of OOP?\n",
      "Advantages of OOP:  It provides a clear modular structure for programs which makes it good for defining abstract \n",
      "datatypes in which implementation details are hidden.  Objects can also be reused within an across applications.  \n",
      "The reuse of software also lowers the cost of development. .. . It makes software easier to maintain.\n"
     ]
    }
   ],
   "source": [
    "answer = (\"Advantages of OOP:  It provides a clear modular structure for programs which makes it good for defining abstract \\ndatatypes in which implementation details are hidden.  Objects can also be reused within an across applications.  \\nThe reuse of software also lowers the cost of development. .. . It makes software easier to maintain.\")\n",
    "\n",
    "def question2():\n",
    "    print(\"Question 2: List down the Benefits of OOP?\")\n",
    "    print(answer)\n",
    "    \n",
    "    \n",
    "question2();"
   ]
  },
  {
   "cell_type": "code",
   "execution_count": 56,
   "metadata": {},
   "outputs": [
    {
     "name": "stdout",
     "output_type": "stream",
     "text": [
      "Question 3 : Differentiate between function and method?\n",
      "Python method is called on an object, unlike a function. ...\n",
      "Since we call a method on an object, it can access the data within it. A method may alter an object's state, \n",
      "but Python function usually only operates on it, and then prints something or returns a value.\n"
     ]
    }
   ],
   "source": [
    "answer =(\"Python method is called on an object, unlike a function. ...\\nSince we call a method on an object, it can access the data within it. A method may alter an object's state, \\nbut Python function usually only operates on it, and then prints something or returns a value.\")\n",
    "\n",
    "def question():\n",
    "    print(\"Question 3 : Differentiate between function and method?\")\n",
    "    print(answer);\n",
    "    \n",
    "question();    "
   ]
  },
  {
   "cell_type": "code",
   "execution_count": 43,
   "metadata": {},
   "outputs": [
    {
     "name": "stdout",
     "output_type": "stream",
     "text": [
      "Question 3 : Define the following terms: \n",
      " 1. Class \n",
      " 2. Object \n",
      " 3. Attribute \n",
      " 4. Behavior\n",
      "Class : class is a code template for creating objects. Objects have member variables and have behaviour associated with them . In python a class is created by the keyword class . An object is created using the constructor of the class. This object will then be called the instance of the class. \n",
      " \n",
      "Object:Python is an object oriented programming language. Unlike procedure oriented programming, where the main emphasis is on functions, object oriented programming stress on objects. Object is simply a collection of data (variables) and methods (functions) that act on those data. And, class is a blueprint for the object. \n",
      " \n",
      "Attribute: An instance attribute is a Python variable belonging to one, and only one, object. ... A class attribute is a Python variable that belongs to a class rather than a particular object. It is shared between all the objects of this class and it is defined outside the constructor function, __init__(self,...) , of the class. \n",
      " \n",
      "Behavior : Behave. behave is behavior-driven development, Python style. Behavior-driven development (or BDD) is an agile software development technique that encourages collaboration between developers, QA and non-technical or business participants in a software project.\n"
     ]
    }
   ],
   "source": [
    "answer = (\"Class : class is a code template for creating objects. Objects have member variables and have behaviour associated with them . In python a class is created by the keyword class . An object is created using the constructor of the class. This object will then be called the instance of the class. \\n \\nObject:Python is an object oriented programming language. Unlike procedure oriented programming, where the main emphasis is on functions, object oriented programming stress on objects. Object is simply a collection of data (variables) and methods (functions) that act on those data. And, class is a blueprint for the object. \\n \\nAttribute: An instance attribute is a Python variable belonging to one, and only one, object. ... A class attribute is a Python variable that belongs to a class rather than a particular object. It is shared between all the objects of this class and it is defined outside the constructor function, __init__(self,...) , of the class. \\n \\nBehavior : Behave. behave is behavior-driven development, Python style. Behavior-driven development (or BDD) is an agile software development technique that encourages collaboration between developers, QA and non-technical or business participants in a software project.\")\n",
    "\n",
    "def question4():\n",
    "    print(\"Question 3 : Define the following terms: \\n 1. Class \\n 2. Object \\n 3. Attribute \\n 4. Behavior\")\n",
    "    print(answer)\n",
    "          \n",
    "    \n",
    "question4();      "
   ]
  },
  {
   "cell_type": "code",
   "execution_count": 49,
   "metadata": {},
   "outputs": [
    {
     "name": "stdout",
     "output_type": "stream",
     "text": [
      "Question 4 : differentiate between function and method ?\n",
      "Python method is called on an object, unlike a function. ..\n",
      "Since we call a method on an object, it can access the data within it.\n",
      "A method may alter an object's state, but Python function usually only operates on it,\n",
      "and then prints something or returns a value\n"
     ]
    }
   ],
   "source": [
    "answer = (\"Python method is called on an object, unlike a function. ..\\nSince we call a method on an object, it can access the data within it.\\nA method may alter an object's state, but Python function usually only operates on it,\\nand then prints something or returns a value\")\n",
    "def question():\n",
    "    print(\"Question 4 : differentiate between function and method ?\")\n",
    "    print(answer);\n",
    "    \n",
    "question();    "
   ]
  },
  {
   "cell_type": "code",
   "execution_count": 50,
   "metadata": {},
   "outputs": [
    {
     "name": "stdout",
     "output_type": "stream",
     "text": [
      "white\n",
      "2\n",
      "300kg\n",
      "2\n",
      "2019\n",
      "<__main__.car object at 0x0000016E450B2348>\n",
      "\n",
      "\n",
      "white\n",
      "2\n",
      "200kg\n",
      "4\n",
      "2018\n",
      "<__main__.car object at 0x0000016E450BAD88>\n",
      "\n",
      "\n",
      "red\n",
      "<__main__.car object at 0x0000016E450BAA48>\n",
      "4\n",
      "100kg\n",
      "4\n",
      "2017\n",
      "\n",
      "\n",
      "white\n",
      "<__main__.car object at 0x0000016E450BA888>\n",
      "4\n",
      "100kg\n",
      "4\n",
      "2019\n",
      "\n",
      "\n",
      "black\n",
      "4\n",
      "100kg\n",
      "4\n",
      "2019\n",
      "<__main__.car object at 0x0000016E450BAF48>\n",
      "\n",
      "\n"
     ]
    }
   ],
   "source": [
    "class car():\n",
    "    def __init__(new,model,color):\n",
    "        new.model = model\n",
    "        new.color = color\n",
    "        new.weight = \"100kg\"\n",
    "        new.doors = 4\n",
    "        new.seets = 4\n",
    "        \n",
    "    def update_seets(new,seets):\n",
    "        new.seets = seets\n",
    "    \n",
    "    def update_doors(new,doors):\n",
    "        new.doors = doors\n",
    "    \n",
    "    def update_weight(new,weight):\n",
    "        new.weight = weight\n",
    "    \n",
    "car1 = car(2019,\"white\")\n",
    "car1.update_seets(2)\n",
    "car1.update_doors(2)\n",
    "car1.update_weight(\"300kg\")\n",
    "print(car1.color)\n",
    "print(car1.doors)\n",
    "print(car1.weight)\n",
    "print(car1.seets)\n",
    "print(car1.model)\n",
    "\n",
    "print(car1)\n",
    "print(\"\\n\")\n",
    "car2 = car(2018,\"white\")\n",
    "car2.update_seets(4)\n",
    "car2.update_doors(2)\n",
    "car2.update_weight(\"200kg\")\n",
    "print(car2.color)\n",
    "print(car2.doors)\n",
    "print(car2.weight)\n",
    "print(car2.seets)\n",
    "print(car2.model)\n",
    "print(car2)\n",
    "print(\"\\n\")\n",
    "car3 = car(2017,\"red\")\n",
    "car1.update_seets(2)\n",
    "car1.update_doors(4)\n",
    "car1.update_weight(\"600kg\")\n",
    "print(car3.color)\n",
    "print(car3)\n",
    "print(car3.doors)\n",
    "print(car3.weight)\n",
    "print(car3.seets)\n",
    "print(car3.model)\n",
    "print(\"\\n\")\n",
    "car4 = car(2019,\"white\")\n",
    "print(car4.color)\n",
    "print(car4)\n",
    "print(car4.doors)\n",
    "print(car4.weight)\n",
    "print(car4.seets)\n",
    "print(car4.model)\n",
    "print(\"\\n\")\n",
    "car5 = car(2019,\"black\")\n",
    "print(car5.color)\n",
    "print(car5.doors)\n",
    "print(car5.weight)\n",
    "print(car5.seets)\n",
    "print(car5.model)\n",
    "print(car5)\n",
    "print(\"\\n\")"
   ]
  },
  {
   "cell_type": "code",
   "execution_count": null,
   "metadata": {},
   "outputs": [],
   "source": []
  }
 ],
 "metadata": {
  "kernelspec": {
   "display_name": "Python 3",
   "language": "python",
   "name": "python3"
  },
  "language_info": {
   "codemirror_mode": {
    "name": "ipython",
    "version": 3
   },
   "file_extension": ".py",
   "mimetype": "text/x-python",
   "name": "python",
   "nbconvert_exporter": "python",
   "pygments_lexer": "ipython3",
   "version": "3.7.4"
  }
 },
 "nbformat": 4,
 "nbformat_minor": 2
}
