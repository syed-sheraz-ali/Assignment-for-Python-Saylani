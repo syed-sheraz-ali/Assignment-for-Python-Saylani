{
 "cells": [
  {
   "cell_type": "code",
   "execution_count": 1,
   "metadata": {},
   "outputs": [
    {
     "name": "stdout",
     "output_type": "stream",
     "text": [
      "Syed Sheraz\n",
      "Ali\n",
      "Karachi\n",
      "23\n",
      "BE(TE)\n",
      "{'First-name': 'Syed Sheraz', 'Last-Name': 'Ali', 'City': 'Karachi', 'Age': 23}\n"
     ]
    }
   ],
   "source": [
    "student = { \"First-name\" : \"Syed Sheraz\", \"Last-Name\" : \"Ali\", \"City\" : \"Karachi\", \"Age\" : 23 }\n",
    "add_student = { \"qualification \" : \"BE(TE)\"}\n",
    "student.update(add_student)\n",
    "\n",
    "for i in student:\n",
    "    print(student[i] )\n",
    "  \n",
    "del student[\"qualification \" ]\n",
    "print(student)"
   ]
  },
  {
   "cell_type": "code",
   "execution_count": 2,
   "metadata": {},
   "outputs": [
    {
     "name": "stdout",
     "output_type": "stream",
     "text": [
      "Information about :  Karachi\n",
      " {'country': 'Pakistan', 'population ': ' 23Million', 'Quality ': ' Most of them are python programmer'}\n",
      "Information about :  Paris\n",
      " {'country': 'Farance', 'population ': ' 2.1Million', ' quality ': 'Fragnence'}\n",
      "Information about :  Delhi\n",
      " {'country': 'india', 'population ': ' 19million', ' quality ': 'Actors'}\n"
     ]
    }
   ],
   "source": [
    "cities = {\"Karachi\" : \n",
    "          { \"country\" : \"Pakistan\",\n",
    "           \"population \" : \" 23Million\",\n",
    "           \"Quality \" : \" Most of them are python programmer\"}, \n",
    "          \"Paris\" : \n",
    "          { \"country\" : \"Farance\",\n",
    "           \"population \" : \" 2.1Million\",\n",
    "           \" quality \" : \"Fragnence\"},\n",
    "          \"Delhi\" : \n",
    "         { \"country\" : \"india\",\n",
    "           \"population \" : \" 19million\",\n",
    "           \" quality \" : \"Actors\"}\n",
    "         }\n",
    "\n",
    "for i in cities :\n",
    "    print(\"Information about : \", i + \"\\n\"  , cities[i])"
   ]
  },
  {
   "cell_type": "code",
   "execution_count": 4,
   "metadata": {},
   "outputs": [
    {
     "name": "stdout",
     "output_type": "stream",
     "text": [
      "Welcome To Ammusement Park\n",
      "please enter your age : 15\n",
      "your ticket cost just  : 20PKR\n"
     ]
    }
   ],
   "source": [
    "print(\"Welcome To Ammusement Park\")\n",
    "age = int(input(\"please enter your age : \"))\n",
    "if age < 3 :\n",
    "    print(\"Enjoy kids having age less then 3 are free allowed  \")\n",
    "elif age == 3 and age < 12 :\n",
    "    print(\"you have to pay ticket price just : 150PKR \")\n",
    "else :\n",
    "    print(\"your ticket cost just  : 20PKR\")"
   ]
  },
  {
   "cell_type": "code",
   "execution_count": 15,
   "metadata": {},
   "outputs": [
    {
     "name": "stdout",
     "output_type": "stream",
     "text": [
      "one of my favorite book is Alice in wonderland python programmer\n",
      "None\n"
     ]
    }
   ],
   "source": [
    "def favorite_book(a) :\n",
    "    print(\"one of my favorite book is Alice in wonderland\",a)\n",
    "    \n",
    "b = favorite_book(\"python programmer\")\n",
    "print(b)"
   ]
  },
  {
   "cell_type": "code",
   "execution_count": null,
   "metadata": {},
   "outputs": [],
   "source": [
    "import random\n",
    "\n",
    "a = random.randint(1,30)\n",
    "print(a)\n",
    "for i in range(3):\n",
    "    b = int(input(\"hint is number in between 1 to 30 so now please guess the number  : \"))\n",
    "    if a == b :\n",
    "        print(\"congratulation you guess the correct answer \")\n",
    "        break\n",
    "    else:\n",
    "        print(\"please try again\")"
   ]
  },
  {
   "cell_type": "code",
   "execution_count": null,
   "metadata": {},
   "outputs": [],
   "source": []
  },
  {
   "cell_type": "code",
   "execution_count": null,
   "metadata": {},
   "outputs": [],
   "source": []
  }
 ],
 "metadata": {
  "kernelspec": {
   "display_name": "Python 3",
   "language": "python",
   "name": "python3"
  },
  "language_info": {
   "codemirror_mode": {
    "name": "ipython",
    "version": 3
   },
   "file_extension": ".py",
   "mimetype": "text/x-python",
   "name": "python",
   "nbconvert_exporter": "python",
   "pygments_lexer": "ipython3",
   "version": "3.7.4"
  }
 },
 "nbformat": 4,
 "nbformat_minor": 2
}
